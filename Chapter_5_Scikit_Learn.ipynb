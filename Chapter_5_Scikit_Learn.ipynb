{
  "nbformat": 4,
  "nbformat_minor": 0,
  "metadata": {
    "colab": {
      "name": "Chapter 5 - Scikit-Learn.ipynb",
      "provenance": [],
      "collapsed_sections": [],
      "include_colab_link": true
    },
    "kernelspec": {
      "name": "python3",
      "display_name": "Python 3"
    },
    "language_info": {
      "name": "python"
    }
  },
  "cells": [
    {
      "cell_type": "markdown",
      "metadata": {
        "id": "view-in-github",
        "colab_type": "text"
      },
      "source": [
        "<a href=\"https://colab.research.google.com/github/darshpandyaGit/darshpandyaGit/blob/main/Chapter_5_Scikit_Learn.ipynb\" target=\"_parent\"><img src=\"https://colab.research.google.com/assets/colab-badge.svg\" alt=\"Open In Colab\"/></a>"
      ]
    },
    {
      "cell_type": "markdown",
      "metadata": {
        "id": "h-Mr2Q8-eDJQ"
      },
      "source": [
        "# 5.1 Overview of the Scikit-Learn Library"
      ]
    },
    {
      "cell_type": "markdown",
      "metadata": {
        "id": "wPa_n6xAYcIO"
      },
      "source": [
        "## 5.1.2 Estimators, Transformers, and Predictors"
      ]
    },
    {
      "cell_type": "markdown",
      "metadata": {
        "id": "kse10dyvYoi3"
      },
      "source": [
        "Transformers and the transform() method"
      ]
    },
    {
      "cell_type": "code",
      "metadata": {
        "colab": {
          "base_uri": "https://localhost:8080/"
        },
        "id": "gDCGuqJYYClJ",
        "outputId": "c3a62090-27ff-4942-bca3-6c5dd376cdf0"
      },
      "source": [
        "import pandas as pd\n",
        "from sklearn.preprocessing import StandardScaler\n",
        "X = pd.DataFrame({'A':[1, 2, 3, 2], 'B':[11, 1, 8, 3]})\n",
        "scaler = StandardScaler()\n",
        "scaler.fit(X)\n",
        "print(scaler.mean_)\n",
        "print(scaler.var_)"
      ],
      "execution_count": 1,
      "outputs": [
        {
          "output_type": "stream",
          "name": "stdout",
          "text": [
            "[2.   5.75]\n",
            "[ 0.5    15.6875]\n"
          ]
        }
      ]
    },
    {
      "cell_type": "code",
      "metadata": {
        "colab": {
          "base_uri": "https://localhost:8080/"
        },
        "id": "s2BH2j4xYhkT",
        "outputId": "20903747-fb87-473d-a687-ec41f8f34d16"
      },
      "source": [
        "X_scaled = scaler.transform(X)\n",
        "print(X_scaled)"
      ],
      "execution_count": null,
      "outputs": [
        {
          "output_type": "stream",
          "text": [
            "[[-1.41421356  1.32550825]\n",
            " [ 0.         -1.19926937]\n",
            " [ 1.41421356  0.56807496]\n",
            " [ 0.         -0.69431384]]\n"
          ],
          "name": "stdout"
        }
      ]
    },
    {
      "cell_type": "code",
      "metadata": {
        "colab": {
          "base_uri": "https://localhost:8080/"
        },
        "id": "NitueVKDY0z8",
        "outputId": "a676ad1c-ee4e-4b84-e8fe-fa3751cf3b7c"
      },
      "source": [
        "print(X_scaled[:, 0].mean())\n",
        "print(X_scaled[:, 1].mean())\n",
        "print(X_scaled[:, 0].var())\n",
        "print(X_scaled[:, 1].var())"
      ],
      "execution_count": null,
      "outputs": [
        {
          "output_type": "stream",
          "text": [
            "0.0\n",
            "0.0\n",
            "0.9999999999999998\n",
            "1.0\n"
          ],
          "name": "stdout"
        }
      ]
    },
    {
      "cell_type": "markdown",
      "metadata": {
        "id": "jOtD_euoaX5F"
      },
      "source": [
        "# 5.2 Data Preprocessing with sklearn"
      ]
    },
    {
      "cell_type": "code",
      "metadata": {
        "id": "KyUf3at2Y94i"
      },
      "source": [
        "import pandas as pd\n",
        "import numpy as np\n",
        "\n",
        "#from google.colab import drive\n",
        "#drive.mount('/content/drive')\n",
        "\n",
        "\n",
        "df = pd.read_csv('datapreprocessing.csv')\n",
        "\n"
      ],
      "execution_count": 5,
      "outputs": []
    },
    {
      "cell_type": "code",
      "metadata": {
        "colab": {
          "base_uri": "https://localhost:8080/"
        },
        "id": "mVzjgOKpfPzE",
        "outputId": "731e3d0e-9990-42af-b90a-cb47748b10ec"
      },
      "source": [
        "from google.colab import drive\n",
        "drive.mount('/content/drive')"
      ],
      "execution_count": 11,
      "outputs": [
        {
          "output_type": "stream",
          "name": "stdout",
          "text": [
            "Drive already mounted at /content/drive; to attempt to forcibly remount, call drive.mount(\"/content/drive\", force_remount=True).\n"
          ]
        }
      ]
    },
    {
      "cell_type": "code",
      "metadata": {
        "colab": {
          "base_uri": "https://localhost:8080/",
          "height": 203
        },
        "id": "Y0pD_B4DscV0",
        "outputId": "1b920254-0494-43c0-a6f2-db1a4922bf0f"
      },
      "source": [
        "df"
      ],
      "execution_count": 6,
      "outputs": [
        {
          "output_type": "execute_result",
          "data": {
            "text/html": [
              "<div>\n",
              "<style scoped>\n",
              "    .dataframe tbody tr th:only-of-type {\n",
              "        vertical-align: middle;\n",
              "    }\n",
              "\n",
              "    .dataframe tbody tr th {\n",
              "        vertical-align: top;\n",
              "    }\n",
              "\n",
              "    .dataframe thead th {\n",
              "        text-align: right;\n",
              "    }\n",
              "</style>\n",
              "<table border=\"1\" class=\"dataframe\">\n",
              "  <thead>\n",
              "    <tr style=\"text-align: right;\">\n",
              "      <th></th>\n",
              "      <th>Color</th>\n",
              "      <th>Years</th>\n",
              "      <th>Strength</th>\n",
              "      <th>Height</th>\n",
              "      <th>Weight</th>\n",
              "      <th>Dangerous</th>\n",
              "    </tr>\n",
              "  </thead>\n",
              "  <tbody>\n",
              "    <tr>\n",
              "      <th>0</th>\n",
              "      <td>Green</td>\n",
              "      <td>2.3</td>\n",
              "      <td>210.0</td>\n",
              "      <td>170.0</td>\n",
              "      <td>20 to 30 kg</td>\n",
              "      <td>Yes</td>\n",
              "    </tr>\n",
              "    <tr>\n",
              "      <th>1</th>\n",
              "      <td>Red</td>\n",
              "      <td>4.1</td>\n",
              "      <td>100.0</td>\n",
              "      <td>NaN</td>\n",
              "      <td>10 to 20 kg</td>\n",
              "      <td>No</td>\n",
              "    </tr>\n",
              "    <tr>\n",
              "      <th>2</th>\n",
              "      <td>Blue</td>\n",
              "      <td>1.4</td>\n",
              "      <td>NaN</td>\n",
              "      <td>412.0</td>\n",
              "      <td>0 to 10 kg</td>\n",
              "      <td>No</td>\n",
              "    </tr>\n",
              "    <tr>\n",
              "      <th>3</th>\n",
              "      <td>Green</td>\n",
              "      <td>NaN</td>\n",
              "      <td>313.0</td>\n",
              "      <td>123.0</td>\n",
              "      <td>10 to 20 kg</td>\n",
              "      <td>Yes</td>\n",
              "    </tr>\n",
              "    <tr>\n",
              "      <th>4</th>\n",
              "      <td>NaN</td>\n",
              "      <td>5.2</td>\n",
              "      <td>512.0</td>\n",
              "      <td>372.0</td>\n",
              "      <td>0 to 10 kg</td>\n",
              "      <td>Yes</td>\n",
              "    </tr>\n",
              "  </tbody>\n",
              "</table>\n",
              "</div>"
            ],
            "text/plain": [
              "   Color  Years  Strength  Height       Weight Dangerous\n",
              "0  Green    2.3     210.0   170.0  20 to 30 kg       Yes\n",
              "1    Red    4.1     100.0     NaN  10 to 20 kg        No\n",
              "2   Blue    1.4       NaN   412.0   0 to 10 kg        No\n",
              "3  Green    NaN     313.0   123.0  10 to 20 kg       Yes\n",
              "4    NaN    5.2     512.0   372.0   0 to 10 kg       Yes"
            ]
          },
          "metadata": {},
          "execution_count": 6
        }
      ]
    },
    {
      "cell_type": "code",
      "metadata": {
        "colab": {
          "base_uri": "https://localhost:8080/"
        },
        "id": "x4_UpnLxoPOT",
        "outputId": "4643b8b5-84c4-4e0b-ded6-b90f722356b5"
      },
      "source": [
        "df.info()"
      ],
      "execution_count": 8,
      "outputs": [
        {
          "output_type": "stream",
          "name": "stdout",
          "text": [
            "<class 'pandas.core.frame.DataFrame'>\n",
            "RangeIndex: 5 entries, 0 to 4\n",
            "Data columns (total 6 columns):\n",
            " #   Column     Non-Null Count  Dtype  \n",
            "---  ------     --------------  -----  \n",
            " 0   Color      4 non-null      object \n",
            " 1   Years      4 non-null      float64\n",
            " 2   Strength   4 non-null      float64\n",
            " 3   Height     4 non-null      float64\n",
            " 4   Weight     5 non-null      object \n",
            " 5   Dangerous  5 non-null      object \n",
            "dtypes: float64(3), object(3)\n",
            "memory usage: 368.0+ bytes\n"
          ]
        }
      ]
    },
    {
      "cell_type": "code",
      "metadata": {
        "colab": {
          "base_uri": "https://localhost:8080/",
          "height": 295
        },
        "id": "IXrrTnwnofjy",
        "outputId": "df36d874-677c-4df5-d685-880bbbcb183e"
      },
      "source": [
        "df.describe()"
      ],
      "execution_count": 9,
      "outputs": [
        {
          "output_type": "execute_result",
          "data": {
            "text/html": [
              "<div>\n",
              "<style scoped>\n",
              "    .dataframe tbody tr th:only-of-type {\n",
              "        vertical-align: middle;\n",
              "    }\n",
              "\n",
              "    .dataframe tbody tr th {\n",
              "        vertical-align: top;\n",
              "    }\n",
              "\n",
              "    .dataframe thead th {\n",
              "        text-align: right;\n",
              "    }\n",
              "</style>\n",
              "<table border=\"1\" class=\"dataframe\">\n",
              "  <thead>\n",
              "    <tr style=\"text-align: right;\">\n",
              "      <th></th>\n",
              "      <th>Years</th>\n",
              "      <th>Strength</th>\n",
              "      <th>Height</th>\n",
              "    </tr>\n",
              "  </thead>\n",
              "  <tbody>\n",
              "    <tr>\n",
              "      <th>count</th>\n",
              "      <td>4.000000</td>\n",
              "      <td>4.000000</td>\n",
              "      <td>4.000000</td>\n",
              "    </tr>\n",
              "    <tr>\n",
              "      <th>mean</th>\n",
              "      <td>3.250000</td>\n",
              "      <td>283.750000</td>\n",
              "      <td>269.250000</td>\n",
              "    </tr>\n",
              "    <tr>\n",
              "      <th>std</th>\n",
              "      <td>1.717556</td>\n",
              "      <td>175.268128</td>\n",
              "      <td>143.961511</td>\n",
              "    </tr>\n",
              "    <tr>\n",
              "      <th>min</th>\n",
              "      <td>1.400000</td>\n",
              "      <td>100.000000</td>\n",
              "      <td>123.000000</td>\n",
              "    </tr>\n",
              "    <tr>\n",
              "      <th>25%</th>\n",
              "      <td>2.075000</td>\n",
              "      <td>182.500000</td>\n",
              "      <td>158.250000</td>\n",
              "    </tr>\n",
              "    <tr>\n",
              "      <th>50%</th>\n",
              "      <td>3.200000</td>\n",
              "      <td>261.500000</td>\n",
              "      <td>271.000000</td>\n",
              "    </tr>\n",
              "    <tr>\n",
              "      <th>75%</th>\n",
              "      <td>4.375000</td>\n",
              "      <td>362.750000</td>\n",
              "      <td>382.000000</td>\n",
              "    </tr>\n",
              "    <tr>\n",
              "      <th>max</th>\n",
              "      <td>5.200000</td>\n",
              "      <td>512.000000</td>\n",
              "      <td>412.000000</td>\n",
              "    </tr>\n",
              "  </tbody>\n",
              "</table>\n",
              "</div>"
            ],
            "text/plain": [
              "          Years    Strength      Height\n",
              "count  4.000000    4.000000    4.000000\n",
              "mean   3.250000  283.750000  269.250000\n",
              "std    1.717556  175.268128  143.961511\n",
              "min    1.400000  100.000000  123.000000\n",
              "25%    2.075000  182.500000  158.250000\n",
              "50%    3.200000  261.500000  271.000000\n",
              "75%    4.375000  362.750000  382.000000\n",
              "max    5.200000  512.000000  412.000000"
            ]
          },
          "metadata": {},
          "execution_count": 9
        }
      ]
    },
    {
      "cell_type": "markdown",
      "metadata": {
        "id": "2w-TYQ-rloV3"
      },
      "source": [
        "## 5.2.1 Handling Missing Data"
      ]
    },
    {
      "cell_type": "code",
      "metadata": {
        "id": "0hYwlXScafQO"
      },
      "source": [
        "# Importing the SimpleImputer class\n",
        "from sklearn.impute import SimpleImputer\n",
        "\n",
        "# Instantiating a SimpleImputer object\n",
        "imp = SimpleImputer(missing_values=np.nan, strategy='mean')\n",
        "\n",
        "# Calling the fit() method to calculate the means\n",
        "imp.fit(df[['Years', 'Strength', 'Height']])\n",
        "\n",
        "# transforming the data\n",
        "df[['Years', 'Strength', 'Height']] = imp.transform(df[['Years', 'Strength', 'Height']])"
      ],
      "execution_count": null,
      "outputs": []
    },
    {
      "cell_type": "code",
      "metadata": {
        "colab": {
          "base_uri": "https://localhost:8080/"
        },
        "id": "EKm5pAb3nljx",
        "outputId": "4c346f54-383a-47a3-fccb-df28cb39fee2"
      },
      "source": [
        "print(imp.statistics_)"
      ],
      "execution_count": null,
      "outputs": [
        {
          "output_type": "stream",
          "text": [
            "[  3.25 283.75 269.25]\n"
          ],
          "name": "stdout"
        }
      ]
    },
    {
      "cell_type": "code",
      "metadata": {
        "colab": {
          "base_uri": "https://localhost:8080/",
          "height": 205
        },
        "id": "qyg1dJXLrzGi",
        "outputId": "2368883e-2c40-44b0-9924-46494bb20aa9"
      },
      "source": [
        "df"
      ],
      "execution_count": null,
      "outputs": [
        {
          "output_type": "execute_result",
          "data": {
            "text/html": [
              "<div>\n",
              "<style scoped>\n",
              "    .dataframe tbody tr th:only-of-type {\n",
              "        vertical-align: middle;\n",
              "    }\n",
              "\n",
              "    .dataframe tbody tr th {\n",
              "        vertical-align: top;\n",
              "    }\n",
              "\n",
              "    .dataframe thead th {\n",
              "        text-align: right;\n",
              "    }\n",
              "</style>\n",
              "<table border=\"1\" class=\"dataframe\">\n",
              "  <thead>\n",
              "    <tr style=\"text-align: right;\">\n",
              "      <th></th>\n",
              "      <th>Color</th>\n",
              "      <th>Years</th>\n",
              "      <th>Strength</th>\n",
              "      <th>Height</th>\n",
              "      <th>Weight</th>\n",
              "      <th>Dangerous</th>\n",
              "    </tr>\n",
              "  </thead>\n",
              "  <tbody>\n",
              "    <tr>\n",
              "      <th>0</th>\n",
              "      <td>Green</td>\n",
              "      <td>2.30</td>\n",
              "      <td>210.00</td>\n",
              "      <td>170.00</td>\n",
              "      <td>20 to 30 kg</td>\n",
              "      <td>Yes</td>\n",
              "    </tr>\n",
              "    <tr>\n",
              "      <th>1</th>\n",
              "      <td>Red</td>\n",
              "      <td>4.10</td>\n",
              "      <td>100.00</td>\n",
              "      <td>269.25</td>\n",
              "      <td>10 to 20 kg</td>\n",
              "      <td>No</td>\n",
              "    </tr>\n",
              "    <tr>\n",
              "      <th>2</th>\n",
              "      <td>Blue</td>\n",
              "      <td>1.40</td>\n",
              "      <td>283.75</td>\n",
              "      <td>412.00</td>\n",
              "      <td>0 to 10 kg</td>\n",
              "      <td>No</td>\n",
              "    </tr>\n",
              "    <tr>\n",
              "      <th>3</th>\n",
              "      <td>Green</td>\n",
              "      <td>3.25</td>\n",
              "      <td>313.00</td>\n",
              "      <td>123.00</td>\n",
              "      <td>10 to 20 kg</td>\n",
              "      <td>Yes</td>\n",
              "    </tr>\n",
              "    <tr>\n",
              "      <th>4</th>\n",
              "      <td>NaN</td>\n",
              "      <td>5.20</td>\n",
              "      <td>512.00</td>\n",
              "      <td>372.00</td>\n",
              "      <td>0 to 10 kg</td>\n",
              "      <td>Yes</td>\n",
              "    </tr>\n",
              "  </tbody>\n",
              "</table>\n",
              "</div>"
            ],
            "text/plain": [
              "   Color  Years  Strength  Height       Weight Dangerous\n",
              "0  Green   2.30    210.00  170.00  20 to 30 kg       Yes\n",
              "1    Red   4.10    100.00  269.25  10 to 20 kg        No\n",
              "2   Blue   1.40    283.75  412.00   0 to 10 kg        No\n",
              "3  Green   3.25    313.00  123.00  10 to 20 kg       Yes\n",
              "4    NaN   5.20    512.00  372.00   0 to 10 kg       Yes"
            ]
          },
          "metadata": {
            "tags": []
          },
          "execution_count": 43
        }
      ]
    },
    {
      "cell_type": "code",
      "metadata": {
        "id": "RF3-s6EVlsxm"
      },
      "source": [
        "# Updating the 'strategy' parameter of the SimpleImputer object\n",
        "imp.set_params(strategy='most_frequent')\n",
        "\n",
        "# Calling the fit() method to get the mode\n",
        "imp.fit(df[['Color']])\n",
        "\n",
        "# Transforming the column\n",
        "df[['Color']] = imp.transform(df[['Color']])"
      ],
      "execution_count": null,
      "outputs": []
    },
    {
      "cell_type": "markdown",
      "metadata": {
        "id": "bH70V5qR2lwC"
      },
      "source": [
        "## 5.2.2 Encoding Categorical Data"
      ]
    },
    {
      "cell_type": "code",
      "metadata": {
        "id": "RUQWNcJPl0Y5"
      },
      "source": [
        "from sklearn.preprocessing import LabelEncoder\n",
        "le = LabelEncoder()\n",
        "df['Dangerous'] = le.fit_transform(df['Dangerous'])"
      ],
      "execution_count": null,
      "outputs": []
    },
    {
      "cell_type": "code",
      "metadata": {
        "id": "3YgONKgg2vsv"
      },
      "source": [
        "from sklearn.preprocessing import OrdinalEncoder\n",
        "oe = OrdinalEncoder(dtype=np.int)\n",
        "df[['Weight']] = oe.fit_transform(df[['Weight']])"
      ],
      "execution_count": null,
      "outputs": []
    },
    {
      "cell_type": "code",
      "metadata": {
        "colab": {
          "base_uri": "https://localhost:8080/",
          "height": 205
        },
        "id": "_zZa0c1M21I9",
        "outputId": "1e5ce674-f642-45f0-ec21-5024b449344b"
      },
      "source": [
        "from sklearn.preprocessing import OneHotEncoder\n",
        "ohe = OneHotEncoder(dtype=np.int, sparse = False, drop='first')\n",
        "color_encoded = ohe.fit_transform(df[['Color']])\n",
        "df2 = pd.DataFrame(color_encoded, columns = ohe.get_feature_names())\n",
        "df = pd.concat((df, df2), axis = 1)\n",
        "df"
      ],
      "execution_count": null,
      "outputs": [
        {
          "output_type": "execute_result",
          "data": {
            "text/html": [
              "<div>\n",
              "<style scoped>\n",
              "    .dataframe tbody tr th:only-of-type {\n",
              "        vertical-align: middle;\n",
              "    }\n",
              "\n",
              "    .dataframe tbody tr th {\n",
              "        vertical-align: top;\n",
              "    }\n",
              "\n",
              "    .dataframe thead th {\n",
              "        text-align: right;\n",
              "    }\n",
              "</style>\n",
              "<table border=\"1\" class=\"dataframe\">\n",
              "  <thead>\n",
              "    <tr style=\"text-align: right;\">\n",
              "      <th></th>\n",
              "      <th>Color</th>\n",
              "      <th>Years</th>\n",
              "      <th>Strength</th>\n",
              "      <th>Height</th>\n",
              "      <th>Weight</th>\n",
              "      <th>Dangerous</th>\n",
              "      <th>x0_Green</th>\n",
              "      <th>x0_Red</th>\n",
              "    </tr>\n",
              "  </thead>\n",
              "  <tbody>\n",
              "    <tr>\n",
              "      <th>0</th>\n",
              "      <td>Green</td>\n",
              "      <td>2.30</td>\n",
              "      <td>210.00</td>\n",
              "      <td>170.00</td>\n",
              "      <td>2</td>\n",
              "      <td>1</td>\n",
              "      <td>1</td>\n",
              "      <td>0</td>\n",
              "    </tr>\n",
              "    <tr>\n",
              "      <th>1</th>\n",
              "      <td>Red</td>\n",
              "      <td>4.10</td>\n",
              "      <td>100.00</td>\n",
              "      <td>269.25</td>\n",
              "      <td>1</td>\n",
              "      <td>0</td>\n",
              "      <td>0</td>\n",
              "      <td>1</td>\n",
              "    </tr>\n",
              "    <tr>\n",
              "      <th>2</th>\n",
              "      <td>Blue</td>\n",
              "      <td>1.40</td>\n",
              "      <td>283.75</td>\n",
              "      <td>412.00</td>\n",
              "      <td>0</td>\n",
              "      <td>0</td>\n",
              "      <td>0</td>\n",
              "      <td>0</td>\n",
              "    </tr>\n",
              "    <tr>\n",
              "      <th>3</th>\n",
              "      <td>Green</td>\n",
              "      <td>3.25</td>\n",
              "      <td>313.00</td>\n",
              "      <td>123.00</td>\n",
              "      <td>1</td>\n",
              "      <td>1</td>\n",
              "      <td>1</td>\n",
              "      <td>0</td>\n",
              "    </tr>\n",
              "    <tr>\n",
              "      <th>4</th>\n",
              "      <td>Green</td>\n",
              "      <td>5.20</td>\n",
              "      <td>512.00</td>\n",
              "      <td>372.00</td>\n",
              "      <td>0</td>\n",
              "      <td>1</td>\n",
              "      <td>1</td>\n",
              "      <td>0</td>\n",
              "    </tr>\n",
              "  </tbody>\n",
              "</table>\n",
              "</div>"
            ],
            "text/plain": [
              "   Color  Years  Strength  Height  Weight  Dangerous  x0_Green  x0_Red\n",
              "0  Green   2.30    210.00  170.00       2          1         1       0\n",
              "1    Red   4.10    100.00  269.25       1          0         0       1\n",
              "2   Blue   1.40    283.75  412.00       0          0         0       0\n",
              "3  Green   3.25    313.00  123.00       1          1         1       0\n",
              "4  Green   5.20    512.00  372.00       0          1         1       0"
            ]
          },
          "metadata": {
            "tags": []
          },
          "execution_count": 47
        }
      ]
    },
    {
      "cell_type": "markdown",
      "metadata": {
        "id": "5Tm41tqD3BLm"
      },
      "source": [
        "## 5.2.3 Feature Scaling"
      ]
    },
    {
      "cell_type": "code",
      "metadata": {
        "colab": {
          "base_uri": "https://localhost:8080/",
          "height": 205
        },
        "id": "hvnwSUxD28Tj",
        "outputId": "7c4297cc-bae6-4e36-9c3a-c34a279176eb"
      },
      "source": [
        "from sklearn.preprocessing import MinMaxScaler\n",
        "mms = MinMaxScaler()\n",
        "df[['Years', 'Strength', 'Height']] = mms.fit_transform(df[['Years', 'Strength', 'Height']])\n",
        "df"
      ],
      "execution_count": null,
      "outputs": [
        {
          "output_type": "execute_result",
          "data": {
            "text/html": [
              "<div>\n",
              "<style scoped>\n",
              "    .dataframe tbody tr th:only-of-type {\n",
              "        vertical-align: middle;\n",
              "    }\n",
              "\n",
              "    .dataframe tbody tr th {\n",
              "        vertical-align: top;\n",
              "    }\n",
              "\n",
              "    .dataframe thead th {\n",
              "        text-align: right;\n",
              "    }\n",
              "</style>\n",
              "<table border=\"1\" class=\"dataframe\">\n",
              "  <thead>\n",
              "    <tr style=\"text-align: right;\">\n",
              "      <th></th>\n",
              "      <th>Color</th>\n",
              "      <th>Years</th>\n",
              "      <th>Strength</th>\n",
              "      <th>Height</th>\n",
              "      <th>Weight</th>\n",
              "      <th>Dangerous</th>\n",
              "      <th>x0_Green</th>\n",
              "      <th>x0_Red</th>\n",
              "    </tr>\n",
              "  </thead>\n",
              "  <tbody>\n",
              "    <tr>\n",
              "      <th>0</th>\n",
              "      <td>Green</td>\n",
              "      <td>0.236842</td>\n",
              "      <td>0.266990</td>\n",
              "      <td>0.162630</td>\n",
              "      <td>2</td>\n",
              "      <td>1</td>\n",
              "      <td>1</td>\n",
              "      <td>0</td>\n",
              "    </tr>\n",
              "    <tr>\n",
              "      <th>1</th>\n",
              "      <td>Red</td>\n",
              "      <td>0.710526</td>\n",
              "      <td>0.000000</td>\n",
              "      <td>0.506055</td>\n",
              "      <td>1</td>\n",
              "      <td>0</td>\n",
              "      <td>0</td>\n",
              "      <td>1</td>\n",
              "    </tr>\n",
              "    <tr>\n",
              "      <th>2</th>\n",
              "      <td>Blue</td>\n",
              "      <td>0.000000</td>\n",
              "      <td>0.445995</td>\n",
              "      <td>1.000000</td>\n",
              "      <td>0</td>\n",
              "      <td>0</td>\n",
              "      <td>0</td>\n",
              "      <td>0</td>\n",
              "    </tr>\n",
              "    <tr>\n",
              "      <th>3</th>\n",
              "      <td>Green</td>\n",
              "      <td>0.486842</td>\n",
              "      <td>0.516990</td>\n",
              "      <td>0.000000</td>\n",
              "      <td>1</td>\n",
              "      <td>1</td>\n",
              "      <td>1</td>\n",
              "      <td>0</td>\n",
              "    </tr>\n",
              "    <tr>\n",
              "      <th>4</th>\n",
              "      <td>Green</td>\n",
              "      <td>1.000000</td>\n",
              "      <td>1.000000</td>\n",
              "      <td>0.861592</td>\n",
              "      <td>0</td>\n",
              "      <td>1</td>\n",
              "      <td>1</td>\n",
              "      <td>0</td>\n",
              "    </tr>\n",
              "  </tbody>\n",
              "</table>\n",
              "</div>"
            ],
            "text/plain": [
              "   Color     Years  Strength    Height  Weight  Dangerous  x0_Green  x0_Red\n",
              "0  Green  0.236842  0.266990  0.162630       2          1         1       0\n",
              "1    Red  0.710526  0.000000  0.506055       1          0         0       1\n",
              "2   Blue  0.000000  0.445995  1.000000       0          0         0       0\n",
              "3  Green  0.486842  0.516990  0.000000       1          1         1       0\n",
              "4  Green  1.000000  1.000000  0.861592       0          1         1       0"
            ]
          },
          "metadata": {
            "tags": []
          },
          "execution_count": 48
        }
      ]
    },
    {
      "cell_type": "markdown",
      "metadata": {
        "id": "TvM8E2jnepeW"
      },
      "source": [
        "# 5.3 PipeLine and ColumnTransformer"
      ]
    },
    {
      "cell_type": "markdown",
      "metadata": {
        "id": "kPlXRNBlesvk"
      },
      "source": [
        "## 5.3.1 Pipeline"
      ]
    },
    {
      "cell_type": "code",
      "metadata": {
        "colab": {
          "base_uri": "https://localhost:8080/"
        },
        "id": "vIG8aAU_ei5v",
        "outputId": "f128eaf3-f321-4600-832c-cc93c340c0b0"
      },
      "source": [
        "data = pd.DataFrame([[1], [4], [np.NaN], [8], [11]], columns=['A'])\n",
        "\n",
        "from sklearn.pipeline import Pipeline\n",
        "\n",
        "pl = Pipeline([\n",
        "   ('imp', SimpleImputer(strategy=\"mean\")), \n",
        "   ('scaler', MinMaxScaler())              \n",
        "])\n",
        "\n",
        "print(pl.fit_transform(data))"
      ],
      "execution_count": null,
      "outputs": [
        {
          "output_type": "stream",
          "text": [
            "[[0. ]\n",
            " [0.3]\n",
            " [0.5]\n",
            " [0.7]\n",
            " [1. ]]\n"
          ],
          "name": "stdout"
        }
      ]
    },
    {
      "cell_type": "markdown",
      "metadata": {
        "id": "OpSqFYbYtsC_"
      },
      "source": [
        "## 5.3.2 ColumnTransformer"
      ]
    },
    {
      "cell_type": "code",
      "metadata": {
        "id": "-GG3Jjbwkx9A"
      },
      "source": [
        "from sklearn.compose import ColumnTransformer\n",
        "\n",
        "data = pd.DataFrame([[1], [4], [np.NaN], [8], [11]], columns=['A'])\n",
        "\n",
        "ct = ColumnTransformer([\n",
        "  ('imp', SimpleImputer(strategy=\"mean\"), ['A']),\n",
        "   ('scaler', MinMaxScaler(), ['A'])              \n",
        "])"
      ],
      "execution_count": null,
      "outputs": []
    },
    {
      "cell_type": "code",
      "metadata": {
        "colab": {
          "base_uri": "https://localhost:8080/"
        },
        "id": "XUd2zcvJuAt_",
        "outputId": "aa669c04-5e1a-4790-bcce-e36952553d8e"
      },
      "source": [
        "print(ct.fit_transform(data))"
      ],
      "execution_count": null,
      "outputs": [
        {
          "output_type": "stream",
          "text": [
            "[[ 1.   0. ]\n",
            " [ 4.   0.3]\n",
            " [ 6.   nan]\n",
            " [ 8.   0.7]\n",
            " [11.   1. ]]\n"
          ],
          "name": "stdout"
        }
      ]
    },
    {
      "cell_type": "code",
      "metadata": {
        "colab": {
          "base_uri": "https://localhost:8080/"
        },
        "id": "S383vNk_uEpW",
        "outputId": "f161eda1-a4e4-4f59-9d9d-d933cd3532d9"
      },
      "source": [
        "data = pd.DataFrame({'A': [1, 2, 3, 4, 5], 'B':['Apple', 'Orange', 'Apple', 'Banana', 'Apple'], 'C':[11, 12, 13, 14, 15]})\n",
        "\n",
        "ct2 = ColumnTransformer([\n",
        "  ('encode', OrdinalEncoder(), ['B']),\n",
        "  ('normalize', MinMaxScaler(), ['A'])                         \n",
        "], remainder='passthrough')\n",
        "\n",
        "print(ct2.fit_transform(data))"
      ],
      "execution_count": null,
      "outputs": [
        {
          "output_type": "stream",
          "text": [
            "[[ 0.    0.   11.  ]\n",
            " [ 2.    0.25 12.  ]\n",
            " [ 0.    0.5  13.  ]\n",
            " [ 1.    0.75 14.  ]\n",
            " [ 0.    1.   15.  ]]\n"
          ],
          "name": "stdout"
        }
      ]
    },
    {
      "cell_type": "markdown",
      "metadata": {
        "id": "A3gaXaI0i3rX"
      },
      "source": [
        "# 5.4 Model Evaluation with sklearn"
      ]
    },
    {
      "cell_type": "markdown",
      "metadata": {
        "id": "Df3kWEzii7H7"
      },
      "source": [
        "## 5.4.1 Classification metrics"
      ]
    },
    {
      "cell_type": "markdown",
      "metadata": {
        "id": "dJ3VWF7RjE1g"
      },
      "source": [
        "Accuracy"
      ]
    },
    {
      "cell_type": "code",
      "metadata": {
        "colab": {
          "base_uri": "https://localhost:8080/"
        },
        "id": "_vxP8Ob8ufh4",
        "outputId": "4101bf4f-888d-4e70-a339-edd9d620efa2"
      },
      "source": [
        "from sklearn.metrics import accuracy_score\n",
        "true = ['Cat', 'Cat', 'Dog', 'Dog', 'Cat', 'Dog']\n",
        "pred = ['Cat', 'Cat', 'Cat', 'Dog', 'Cat', 'Cat']\n",
        "score = accuracy_score(true, pred)\n",
        "print(score)"
      ],
      "execution_count": 10,
      "outputs": [
        {
          "output_type": "stream",
          "name": "stdout",
          "text": [
            "0.6666666666666666\n"
          ]
        }
      ]
    },
    {
      "cell_type": "markdown",
      "metadata": {
        "id": "SXmCUTu3jGH-"
      },
      "source": [
        "Precision and Recall"
      ]
    },
    {
      "cell_type": "code",
      "metadata": {
        "colab": {
          "base_uri": "https://localhost:8080/"
        },
        "id": "RpRyQgU9i-FH",
        "outputId": "9b90782c-088e-4750-fc80-afc3514b8bf6"
      },
      "source": [
        "from sklearn.metrics import precision_score, recall_score\n",
        "true = ['Cat', 'Cat', 'Dog', 'Dog', 'Cat', 'Dog']\n",
        "pred = ['Cat', 'Cat', 'Cat', 'Dog', 'Cat', 'Cat']\n",
        "precision = precision_score(true, pred, pos_label = 'Dog')\n",
        "recall = recall_score(true, pred, pos_label = 'Dog')\n",
        "print(precision)\n",
        "print(recall)"
      ],
      "execution_count": 11,
      "outputs": [
        {
          "output_type": "stream",
          "name": "stdout",
          "text": [
            "1.0\n",
            "0.3333333333333333\n"
          ]
        }
      ]
    },
    {
      "cell_type": "markdown",
      "metadata": {
        "id": "3_8Ybb2gjNTa"
      },
      "source": [
        "## 5.4.2 Regression metrics"
      ]
    },
    {
      "cell_type": "code",
      "metadata": {
        "colab": {
          "base_uri": "https://localhost:8080/"
        },
        "id": "5lYoDdUOjIKo",
        "outputId": "3a66a5c4-847f-4b4d-ea97-f0911957d31d"
      },
      "source": [
        "from sklearn.metrics import r2_score, mean_squared_error\n",
        "pred = [2.1, 1.4, 5.6, 7.9]\n",
        "true = [2.5, 1.6, 5.1, 6.8]\n",
        "RMSE = mean_squared_error(true, pred, squared=False)\n",
        "r2 = r2_score(true, pred)\n",
        "print(RMSE)\n",
        "print(r2)"
      ],
      "execution_count": 12,
      "outputs": [
        {
          "output_type": "stream",
          "name": "stdout",
          "text": [
            "0.6442049363362565\n",
            "0.902696365767878\n"
          ]
        }
      ]
    },
    {
      "cell_type": "code",
      "metadata": {
        "id": "ndLhtKyd0Nem"
      },
      "source": [
        ""
      ],
      "execution_count": null,
      "outputs": []
    }
  ]
}